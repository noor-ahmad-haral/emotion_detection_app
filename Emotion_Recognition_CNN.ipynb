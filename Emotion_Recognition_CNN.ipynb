{
 "cells": [
  {
   "cell_type": "markdown",
   "metadata": {},
   "source": [
    "# Computer Vision Task 2"
   ]
  },
  {
   "cell_type": "markdown",
   "metadata": {},
   "source": [
    "## Step 1: Dataset Preprocessing"
   ]
  },
  {
   "cell_type": "markdown",
   "metadata": {},
   "source": [
    "###### Dataswt is organized in many folders each contain related emotion images"
   ]
  },
  {
   "cell_type": "code",
   "execution_count": 1,
   "metadata": {},
   "outputs": [
    {
     "name": "stderr",
     "output_type": "stream",
     "text": [
      "c:\\Python311\\Lib\\site-packages\\tqdm\\auto.py:21: TqdmWarning: IProgress not found. Please update jupyter and ipywidgets. See https://ipywidgets.readthedocs.io/en/stable/user_install.html\n",
      "  from .autonotebook import tqdm as notebook_tqdm\n"
     ]
    }
   ],
   "source": [
    "import os\n",
    "import cv2\n",
    "import torch\n",
    "from torchvision import transforms\n",
    "from torch.utils.data import Dataset, DataLoader\n",
    "from sklearn.model_selection import train_test_split\n",
    "\n",
    "class FaceDataset(Dataset):\n",
    "    def __init__(self, image_paths, labels, transform=None):\n",
    "        self.image_paths = image_paths\n",
    "        self.labels = labels\n",
    "        self.transform = transform\n",
    "\n",
    "    def __len__(self):\n",
    "        return len(self.image_paths)\n",
    "\n",
    "    def __getitem__(self, idx):\n",
    "        image = cv2.imread(self.image_paths[idx])\n",
    "        image = cv2.cvtColor(image, cv2.COLOR_BGR2RGB)\n",
    "        label = self.labels[idx]\n",
    "\n",
    "        if self.transform:\n",
    "            image = self.transform(image)\n",
    "\n",
    "        return image, label\n",
    "\n",
    "def load_data(data_folder_path):\n",
    "    labels = []\n",
    "    image_paths = []\n",
    "    label_map = {}\n",
    "    current_label = 0\n",
    "\n",
    "    for person_name in os.listdir(data_folder_path):\n",
    "        person_path = os.path.join(data_folder_path, person_name)\n",
    "        if not os.path.isdir(person_path):\n",
    "            continue\n",
    "\n",
    "        for image_name in os.listdir(person_path):\n",
    "            image_path = os.path.join(person_path, image_name)\n",
    "            image_paths.append(image_path)\n",
    "            labels.append(current_label)\n",
    "\n",
    "        label_map[current_label] = person_name\n",
    "        current_label += 1\n",
    "\n",
    "    return image_paths, labels, label_map\n",
    "\n",
    "# Path to your dataset\n",
    "data_folder_path = \"Dataset\"\n",
    "image_paths, labels, label_map = load_data(data_folder_path)\n",
    "\n",
    "# Split the dataset into training and testing\n",
    "train_paths, test_paths, train_labels, test_labels = train_test_split(image_paths, labels, test_size=0.2, random_state=42)\n",
    "\n",
    "# Define transformations\n",
    "transform = transforms.Compose([\n",
    "    transforms.ToPILImage(),\n",
    "    transforms.Resize((48, 48)),\n",
    "    transforms.ToTensor(),\n",
    "    transforms.Normalize(mean=[0.485, 0.456, 0.406], std=[0.229, 0.224, 0.225]),\n",
    "])\n",
    "\n",
    "# Create datasets\n",
    "train_dataset = FaceDataset(train_paths, train_labels, transform=transform)\n",
    "test_dataset = FaceDataset(test_paths, test_labels, transform=transform)\n",
    "\n",
    "# Create data loaders\n",
    "train_loader = DataLoader(train_dataset, batch_size=500, shuffle=True)\n",
    "test_loader = DataLoader(test_dataset, batch_size=500, shuffle=False)\n"
   ]
  },
  {
   "cell_type": "markdown",
   "metadata": {},
   "source": [
    "## Step 2: Define the CNN Model"
   ]
  },
  {
   "cell_type": "code",
   "execution_count": 2,
   "metadata": {},
   "outputs": [],
   "source": [
    "import torch.nn as nn\n",
    "import torch.nn.functional as F\n",
    "\n",
    "class FaceNet(nn.Module):\n",
    "    def __init__(self, num_classes):\n",
    "        super(FaceNet, self).__init__()\n",
    "        self.conv1 = nn.Conv2d(3, 64, kernel_size=5, stride=1, padding=2)\n",
    "        self.pool = nn.MaxPool2d(kernel_size=2, stride=2, padding=0)\n",
    "        self.fc1 = nn.Linear(64 * 24 * 24, 500)  # Adjust the input size for the fully connected layer\n",
    "        self.fc2 = nn.Linear(500, num_classes)\n",
    "\n",
    "    def forward(self, x):\n",
    "        x = self.pool(F.relu(self.conv1(x)))\n",
    "        \n",
    "        x = x.view(-1, 64 * 24 * 24)  # Adjust the view size based on the actual size\n",
    "        x = F.relu(self.fc1(x))\n",
    "        x = self.fc2(x)\n",
    "        return x\n",
    "\n",
    "# Assuming input size is (3, 48, 48)\n",
    "num_classes = len(label_map)\n",
    "model = FaceNet(num_classes)"
   ]
  },
  {
   "cell_type": "markdown",
   "metadata": {},
   "source": [
    "## Step 3: Train the Model"
   ]
  },
  {
   "cell_type": "code",
   "execution_count": 3,
   "metadata": {},
   "outputs": [
    {
     "name": "stdout",
     "output_type": "stream",
     "text": [
      "Epoch 1/10, Loss: 9.969027191400528\n",
      "Epoch 2/10, Loss: 2.2400386730829873\n",
      "Epoch 3/10, Loss: 1.7904335657755535\n",
      "Epoch 4/10, Loss: 1.6967956026395161\n",
      "Epoch 5/10, Loss: 1.6431482930978139\n",
      "Epoch 6/10, Loss: 1.6079142391681671\n",
      "Epoch 7/10, Loss: 1.57981343070666\n",
      "Epoch 8/10, Loss: 1.539437045653661\n",
      "Epoch 9/10, Loss: 1.507846216360728\n",
      "Epoch 10/10, Loss: 1.4759639998277028\n",
      "Finished Training\n"
     ]
    }
   ],
   "source": [
    "import torch\n",
    "import torch.nn as nn\n",
    "import torch.optim as optim\n",
    "from torchvision import transforms, datasets\n",
    "\n",
    "criterion = nn.CrossEntropyLoss()\n",
    "optimizer = optim.Adam(model.parameters(), lr=0.001)\n",
    "\n",
    "# Training loop\n",
    "num_epochs = 10\n",
    "\n",
    "for epoch in range(num_epochs):\n",
    "    model.train()  # Set the model to training mode\n",
    "    running_loss = 0.0\n",
    "\n",
    "    for i, (inputs, labels) in enumerate(train_loader, 0):\n",
    "        optimizer.zero_grad()\n",
    "        outputs = model(inputs)\n",
    "        loss = criterion(outputs, labels)\n",
    "        loss.backward()\n",
    "        optimizer.step()\n",
    "\n",
    "        running_loss += loss.item()\n",
    "\n",
    "    # Print average loss for the epoch\n",
    "    avg_loss = running_loss / len(train_loader)\n",
    "    print(f'Epoch {epoch + 1}/{num_epochs}, Loss: {avg_loss}')\n",
    "\n",
    "print('Finished Training')\n"
   ]
  },
  {
   "cell_type": "code",
   "execution_count": 4,
   "metadata": {},
   "outputs": [
    {
     "name": "stdout",
     "output_type": "stream",
     "text": [
      "Epoch 1/50, Loss: 2.039973735809326\n",
      "Epoch 2/50, Loss: 1.6727536022663116\n",
      "Epoch 3/50, Loss: 1.5688513219356537\n",
      "Epoch 4/50, Loss: 1.4807440141836803\n",
      "Epoch 5/50, Loss: 1.4121123651663463\n",
      "Epoch 6/50, Loss: 1.343207488457362\n",
      "Epoch 7/50, Loss: 1.2772092322508495\n",
      "Epoch 8/50, Loss: 1.224999725818634\n",
      "Epoch 9/50, Loss: 1.1628705561161041\n",
      "Epoch 10/50, Loss: 1.1367699106534321\n",
      "Epoch 11/50, Loss: 1.061029851436615\n",
      "Epoch 12/50, Loss: 1.0072717567284901\n",
      "Epoch 13/50, Loss: 0.9528310596942902\n",
      "Epoch 14/50, Loss: 0.924012025197347\n",
      "Epoch 15/50, Loss: 0.873199055592219\n",
      "Epoch 16/50, Loss: 0.8477152486642202\n",
      "Epoch 17/50, Loss: 0.7952977766593298\n",
      "Epoch 18/50, Loss: 0.7728614211082458\n",
      "Epoch 19/50, Loss: 0.7046724408864975\n",
      "Epoch 20/50, Loss: 0.6716871758302053\n",
      "Epoch 21/50, Loss: 0.6398118883371353\n",
      "Epoch 22/50, Loss: 0.6104583839575449\n",
      "Epoch 23/50, Loss: 0.5576526001095772\n",
      "Epoch 24/50, Loss: 0.5201660518844923\n",
      "Epoch 25/50, Loss: 0.4884759734074275\n",
      "Epoch 26/50, Loss: 0.4724386657277743\n",
      "Epoch 27/50, Loss: 0.42676260073979694\n",
      "Epoch 28/50, Loss: 0.38719458878040314\n",
      "Epoch 29/50, Loss: 0.3471718529860179\n",
      "Epoch 30/50, Loss: 0.32963544378678006\n",
      "Epoch 31/50, Loss: 0.2986939921975136\n",
      "Epoch 32/50, Loss: 0.2876816975573699\n",
      "Epoch 33/50, Loss: 0.25623391071955365\n",
      "Epoch 34/50, Loss: 0.2268327809870243\n",
      "Epoch 35/50, Loss: 0.19908547898133597\n",
      "Epoch 36/50, Loss: 0.17607560753822327\n",
      "Epoch 37/50, Loss: 0.16265732670823732\n",
      "Epoch 38/50, Loss: 0.16051040217280388\n",
      "Epoch 39/50, Loss: 0.1455093895395597\n",
      "Epoch 40/50, Loss: 0.13131801411509514\n",
      "Epoch 41/50, Loss: 0.11774878762662411\n",
      "Epoch 42/50, Loss: 0.1094772486637036\n",
      "Epoch 43/50, Loss: 0.11213892760376136\n",
      "Epoch 44/50, Loss: 0.10642766952514648\n",
      "Epoch 45/50, Loss: 0.111709530154864\n",
      "Epoch 46/50, Loss: 0.08876709764202435\n",
      "Epoch 47/50, Loss: 0.07238081408043702\n",
      "Epoch 48/50, Loss: 0.06538078157852094\n",
      "Epoch 49/50, Loss: 0.057727763429284096\n",
      "Epoch 50/50, Loss: 0.053632778426011406\n"
     ]
    },
    {
     "data": {
      "image/png": "[encoded data removed]",
      "text/plain": [
       "<Figure size 640x480 with 1 Axes>"
      ]
     },
     "metadata": {},
     "output_type": "display_data"
    }
   ],
   "source": [
    "import torch\n",
    "import torch.nn as nn\n",
    "import torch.optim as optim\n",
    "import matplotlib.pyplot as plt\n",
    "\n",
    "criterion = nn.CrossEntropyLoss()\n",
    "optimizer = optim.Adam(model.parameters(), lr=0.001)\n",
    "\n",
    "# Training loop\n",
    "num_epochs = 50\n",
    "losses = []  # List to store losses over epochs\n",
    "\n",
    "for epoch in range(num_epochs):\n",
    "    epoch_loss = 0.0  # Initialize loss for the current epoch\n",
    "    for i, (inputs, labels) in enumerate(train_loader, 0):\n",
    "        optimizer.zero_grad()\n",
    "        outputs = model(inputs)\n",
    "        loss = criterion(outputs, labels)\n",
    "        loss.backward()\n",
    "        optimizer.step()\n",
    "        \n",
    "        epoch_loss += loss.item()\n",
    "\n",
    "    # Calculate average loss for the epoch\n",
    "    average_epoch_loss = epoch_loss / len(train_loader)\n",
    "    losses.append(average_epoch_loss)\n",
    "\n",
    "    print(f'Epoch {epoch + 1}/{num_epochs}, Loss: {average_epoch_loss}')\n",
    "\n",
    "# Plotting the loss curve\n",
    "plt.plot(range(1, num_epochs + 1), losses, marker='o')\n",
    "plt.title('Training Loss Over Epochs')\n",
    "plt.xlabel('Epochs')\n",
    "plt.ylabel('Loss')\n",
    "plt.show()"
   ]
  },
  {
   "cell_type": "markdown",
   "metadata": {},
   "source": [
    "#### Save the Model"
   ]
  },
  {
   "cell_type": "code",
   "execution_count": null,
   "metadata": {},
   "outputs": [],
   "source": [
    "# Save only the model's state dictionary\n",
    "torch.save(model.state_dict(), 'emotion_model1.pth')"
   ]
  },
  {
   "cell_type": "code",
   "execution_count": 7,
   "metadata": {},
   "outputs": [],
   "source": [
    "import torch\n",
    "# Save the entire model\n",
    "torch.save(model, 'emotion_model.pth')\n",
    "\n",
    "# Save the label map\n",
    "torch.save(label_map, 'emotion_label_map.pth')\n"
   ]
  },
  {
   "cell_type": "markdown",
   "metadata": {},
   "source": [
    "#### Load the Model"
   ]
  },
  {
   "cell_type": "code",
   "execution_count": 8,
   "metadata": {},
   "outputs": [],
   "source": [
    "# Load the model\n",
    "model = torch.load('emotion_model.pth')\n",
    "model.eval()\n",
    "\n",
    "# Load the label map\n",
    "label_map = torch.load('emotion_label_map.pth')"
   ]
  },
  {
   "cell_type": "markdown",
   "metadata": {},
   "source": [
    "## Step 4: Real-Time Emotion Recognition"
   ]
  },
  {
   "cell_type": "code",
   "execution_count": 16,
   "metadata": {},
   "outputs": [],
   "source": [
    "import torch\n",
    "# Load the model\n",
    "model = torch.load('emotion_model.pth')\n",
    "model.eval()\n",
    "\n",
    "# Load the label map\n",
    "label_map = torch.load('emotion_label_map.pth')\n",
    "# Function to preprocess input frame\n",
    "def preprocess_frame(frame):\n",
    "    # Resize, normalize and convert frame to tensor\n",
    "    # Adjust this according to how you preprocessed images during training\n",
    "    frame = cv2.resize(frame, (48, 48)) \n",
    "    frame = frame / 255.0\n",
    "    frame = torch.Tensor(frame).permute(2, 0, 1).unsqueeze(0)\n",
    "    return frame\n",
    "\n",
    "# Webcam capture\n",
    "cap = cv2.VideoCapture(0)\n",
    "face_cascade = cv2.CascadeClassifier('haarcascade_frontalface_default.xml')\n",
    "\n",
    "while True:\n",
    "    ret, frame = cap.read()\n",
    "    gray = cv2.cvtColor(frame, cv2.COLOR_BGR2GRAY)\n",
    "    faces = face_cascade.detectMultiScale(gray, 1.3, 5)\n",
    "\n",
    "    for (x, y, w, h) in faces:\n",
    "        face = frame[y:y+h, x:x+w]\n",
    "        face = preprocess_frame(face)\n",
    "\n",
    "        output = model(face)\n",
    "        _, predicted = torch.max(output, 1)\n",
    "        label = label_map[int(predicted)]\n",
    "\n",
    "        cv2.rectangle(frame, (x, y), (x+w, y+h), (255, 0, 0), 2)\n",
    "        cv2.putText(frame, label, (x, y-10), cv2.FONT_HERSHEY_SIMPLEX, 0.9, (255,0,0), 2)\n",
    "\n",
    "    cv2.imshow('Real-time Emotion Recognition', frame)\n",
    "    if cv2.waitKey(1) & 0xFF == ord('q'):\n",
    "        break\n",
    "\n",
    "cap.release()\n",
    "cv2.destroyAllWindows()\n"
   ]
  },
  {
   "cell_type": "markdown",
   "metadata": {},
   "source": [
    "ColorFull Predictions"
   ]
  },
  {
   "cell_type": "code",
   "execution_count": 9,
   "metadata": {},
   "outputs": [],
   "source": [
    "import cv2\n",
    "import torch\n",
    "\n",
    "# Function to preprocess input frame\n",
    "def preprocess_frame(frame):\n",
    "    # Resize, normalize and convert frame to tensor\n",
    "    # Adjust this according to how you preprocessed images during training\n",
    "    frame = cv2.resize(frame, (48, 48)) \n",
    "    frame = frame / 255.0\n",
    "    frame = torch.Tensor(frame).permute(2, 0, 1).unsqueeze(0)\n",
    "    return frame\n",
    "\n",
    "# Webcam capture\n",
    "cap = cv2.VideoCapture(0)\n",
    "face_cascade = cv2.CascadeClassifier('haarcascade_frontalface_default.xml')\n",
    "\n",
    "# Define color map for different labels\n",
    "label_color_map = {\n",
    "    \"angry\": (0, 0, 255),      # Red\n",
    "    \"disgust\": (255, 0, 0),    # Blue\n",
    "    \"fear\": (0, 255, 255),     # Yellow\n",
    "    \"happy\": (0, 255, 0),      # Green\n",
    "    \"neutral\": (255, 255, 0),  # Cyan\n",
    "    \"sad\": (255, 165, 0),      # Orange\n",
    "    \"surprise\": (255, 0, 255)  # Magenta\n",
    "}\n",
    "\n",
    "while True:\n",
    "    ret, frame = cap.read()\n",
    "    gray = cv2.cvtColor(frame, cv2.COLOR_BGR2GRAY)\n",
    "    faces = face_cascade.detectMultiScale(gray, 1.3, 5)\n",
    "\n",
    "    for (x, y, w, h) in faces:\n",
    "        face = frame[y:y+h, x:x+w]\n",
    "        face = preprocess_frame(face)\n",
    "\n",
    "        output = model(face)\n",
    "        _, predicted = torch.max(output, 1)\n",
    "        label = label_map[int(predicted)]\n",
    "\n",
    "        # Use the color map to get the color for the label\n",
    "        color = label_color_map.get(label, (255, 255, 255))  # Default to white if label not found\n",
    "\n",
    "        cv2.rectangle(frame, (x, y), (x+w, y+h), color, 2)\n",
    "        cv2.putText(frame, label, (x, y-10), cv2.FONT_HERSHEY_SIMPLEX, 0.9, color, 2)\n",
    "\n",
    "    cv2.imshow('Real-time Emotion Recognition', frame)\n",
    "    if cv2.waitKey(1) & 0xFF == ord('q'):\n",
    "        break\n",
    "\n",
    "cap.release()\n",
    "cv2.destroyAllWindows()\n"
   ]
  },
  {
   "cell_type": "code",
   "execution_count": null,
   "metadata": {},
   "outputs": [],
   "source": []
  }
 ],
 "metadata": {
  "kernelspec": {
   "display_name": "Python 3",
   "language": "python",
   "name": "python3"
  },
  "language_info": {
   "codemirror_mode": {
    "name": "ipython",
    "version": 3
   },
   "file_extension": ".py",
   "mimetype": "text/x-python",
   "name": "python",
   "nbconvert_exporter": "python",
   "pygments_lexer": "ipython3",
   "version": "3.11.4"
  }
 },
 "nbformat": 4,
 "nbformat_minor": 2
}
